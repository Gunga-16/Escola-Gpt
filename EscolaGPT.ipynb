{
  "nbformat": 4,
  "nbformat_minor": 0,
  "metadata": {
    "colab": {
      "provenance": [],
      "authorship_tag": "ABX9TyM3c+rTb9e3T2exNTfJA+Ur",
      "include_colab_link": true
    },
    "kernelspec": {
      "name": "python3",
      "display_name": "Python 3"
    },
    "language_info": {
      "name": "python"
    }
  },
  "cells": [
    {
      "cell_type": "markdown",
      "metadata": {
        "id": "view-in-github",
        "colab_type": "text"
      },
      "source": [
        "<a href=\"https://colab.research.google.com/github/Gunga-16/Escola-Gpt/blob/main/EscolaGPT.ipynb\" target=\"_parent\"><img src=\"https://colab.research.google.com/assets/colab-badge.svg\" alt=\"Open In Colab\"/></a>"
      ]
    },
    {
      "cell_type": "markdown",
      "source": [
        "# **CHAT BOT**\n"
      ],
      "metadata": {
        "id": "odb2GpxNyXNM"
      }
    },
    {
      "cell_type": "markdown",
      "source": [
        "## **Configurações Gerais**"
      ],
      "metadata": {
        "id": "2BJuVLQ6zBKT"
      }
    },
    {
      "cell_type": "code",
      "execution_count": 1,
      "metadata": {
        "id": "DYjgla7dvxni"
      },
      "outputs": [],
      "source": [
        "#Instalando o SDK do Google\n",
        "!pip install -q -U google-generativeai"
      ]
    },
    {
      "cell_type": "code",
      "source": [
        "#Configurações iniciais\n",
        "import google.generativeai as genai\n",
        "\n",
        "GOOGLE_API_KEY=\"MINHA CHAVE\"\n",
        "genai.configure(api_key=GOOGLE_API_KEY)"
      ],
      "metadata": {
        "id": "KC89tstGws3s"
      },
      "execution_count": 2,
      "outputs": []
    },
    {
      "cell_type": "code",
      "source": [
        "#Listando os modelos disponíveis\n",
        "for m in genai.list_models():\n",
        "  if 'generateContent' in m.supported_generation_methods:\n",
        "    print(m.name)"
      ],
      "metadata": {
        "colab": {
          "base_uri": "https://localhost:8080/",
          "height": 236
        },
        "id": "jzmjGUDaw3-M",
        "outputId": "e2afa2d8-8d91-4ff3-8f12-7fc620966a3f"
      },
      "execution_count": 3,
      "outputs": [
        {
          "output_type": "stream",
          "name": "stdout",
          "text": [
            "models/gemini-1.0-pro-latest\n",
            "models/gemini-1.0-pro\n",
            "models/gemini-pro\n",
            "models/gemini-1.0-pro-001\n",
            "models/gemini-1.0-pro-vision-latest\n",
            "models/gemini-pro-vision\n",
            "models/gemini-1.5-pro-latest\n",
            "models/gemini-1.5-pro-001\n",
            "models/gemini-1.5-pro\n",
            "models/gemini-1.5-flash-latest\n",
            "models/gemini-1.5-flash-001\n",
            "models/gemini-1.5-flash\n"
          ]
        }
      ]
    },
    {
      "cell_type": "code",
      "execution_count": 4,
      "metadata": {
        "id": "O1ochaeyDn_o"
      },
      "outputs": [],
      "source": [
        "generation_config = {\n",
        "  \"candidate_count\": 1,\n",
        "  \"temperature\": 0.5,\n",
        "}\n",
        "\n",
        "safety_settings={\n",
        "    'HATE': 'BLOCK_NONE',\n",
        "    'HARASSMENT': 'BLOCK_NONE',\n",
        "    'SEXUAL' : 'BLOCK_NONE',\n",
        "    'DANGEROUS' : 'BLOCK_NONE'\n",
        "    }\n",
        "\n",
        "model = genai.GenerativeModel(model_name='gemini-1.0-pro',\n",
        "                                  generation_config=generation_config,\n",
        "                                  safety_settings=safety_settings)"
      ]
    },
    {
      "cell_type": "markdown",
      "source": [
        "## **CAMPO PROMPT**"
      ],
      "metadata": {
        "id": "NWR3cabX4oPA"
      }
    },
    {
      "cell_type": "code",
      "source": [
        "# response = model.generate_content(\"Me explique como funcionam as IAs generativas.\")\n",
        "# response.text"
      ],
      "metadata": {
        "id": "rGchHJ8y07kn"
      },
      "execution_count": null,
      "outputs": []
    },
    {
      "cell_type": "code",
      "source": [
        "chat = model.start_chat(history=[])\n",
        "\n",
        "prompt = input('Escreva uma pergunta: ')\n",
        "\n",
        "while prompt != \"fim\":\n",
        "  response = chat.send_message(prompt + 'Deve responder com informações cientifícas usando de base artigos encontrados no Google Academy. Texto conciso usando normas gramticais da língua portuguesa. Poucos tópicos, o principal são os parágrafos.')\n",
        "  print(\"Resposta:\", response.text, '\\n\\n')\n",
        "  prompt = input('Esperando prompt: ')\n"
      ],
      "metadata": {
        "colab": {
          "base_uri": "https://localhost:8080/",
          "height": 274
        },
        "id": "5ggJ3Jym45v1",
        "outputId": "39517f4d-76ae-4656-8c83-07ffe57289de"
      },
      "execution_count": 5,
      "outputs": [
        {
          "name": "stdout",
          "output_type": "stream",
          "text": [
            "Escreva uma pergunta: Me explique como funcionam as IAs generativas.\n",
            "Resposta: **Como Funcionam as IAs Generativas**\n",
            "\n",
            "As IAs generativas são modelos de aprendizado de máquina capazes de gerar novos dados ou conteúdos originais a partir de um conjunto de dados de treinamento. Esses modelos são treinados em vastas quantidades de dados, permitindo-lhes aprender padrões e relacionamentos complexos.\n",
            "\n",
            "**Arquitetura e Treinamento**\n",
            "\n",
            "As IAs generativas geralmente usam redes neurais, como redes adversárias generativas (GANs) ou transformadores. As GANs consistem em duas redes: um gerador que cria novos dados e um discriminador que tenta distinguir entre dados gerados e dados reais. Os transformadores são modelos baseados em atenção que processam sequências de dados, permitindo a geração de texto, código ou imagens.\n",
            "\n",
            "Durante o treinamento, as IAs generativas aprendem a mapear dados de entrada (por exemplo, texto ou imagens) em dados de saída (por exemplo, texto novo ou imagens geradas). O processo de treinamento envolve minimizar uma função de perda que mede a diferença entre os dados gerados e os dados reais. \n",
            "\n",
            "\n",
            "Esperando prompt: fim\n"
          ]
        }
      ]
    },
    {
      "cell_type": "code",
      "source": [
        "import textwrap\n",
        "from IPython.display import display\n",
        "from IPython.display import Markdown\n",
        "\n",
        "def to_markdown(text):\n",
        "  text = text.replace('•', '  *')\n",
        "  return Markdown(textwrap.indent(text, '> ', predicate=lambda _: True))\n",
        "\n",
        "#Imprimindo o histórico\n",
        "for message in chat.history:\n",
        "  display(to_markdown(f'**{message.role}**: {message.parts[0].text}'))\n",
        "  print('-------------------------------------------')"
      ],
      "metadata": {
        "colab": {
          "base_uri": "https://localhost:8080/",
          "height": 342
        },
        "id": "jFidEpjL8IiL",
        "outputId": "ea3bceae-9025-436b-8290-48c60b541897"
      },
      "execution_count": 6,
      "outputs": [
        {
          "output_type": "display_data",
          "data": {
            "text/plain": [
              "<IPython.core.display.Markdown object>"
            ],
            "text/markdown": "> **user**: Me explique como funcionam as IAs generativas.Deve responder com informações cientifícas usando de base artigos encontrados no Google Academy. Texto conciso usando normas gramticais da língua portuguesa. Poucos tópicos, o principal são os parágrafos."
          },
          "metadata": {}
        },
        {
          "output_type": "stream",
          "name": "stdout",
          "text": [
            "-------------------------------------------\n"
          ]
        },
        {
          "output_type": "display_data",
          "data": {
            "text/plain": [
              "<IPython.core.display.Markdown object>"
            ],
            "text/markdown": "> **model**: **Como Funcionam as IAs Generativas**\n> \n> As IAs generativas são modelos de aprendizado de máquina capazes de gerar novos dados ou conteúdos originais a partir de um conjunto de dados de treinamento. Esses modelos são treinados em vastas quantidades de dados, permitindo-lhes aprender padrões e relacionamentos complexos.\n> \n> **Arquitetura e Treinamento**\n> \n> As IAs generativas geralmente usam redes neurais, como redes adversárias generativas (GANs) ou transformadores. As GANs consistem em duas redes: um gerador que cria novos dados e um discriminador que tenta distinguir entre dados gerados e dados reais. Os transformadores são modelos baseados em atenção que processam sequências de dados, permitindo a geração de texto, código ou imagens.\n> \n> Durante o treinamento, as IAs generativas aprendem a mapear dados de entrada (por exemplo, texto ou imagens) em dados de saída (por exemplo, texto novo ou imagens geradas). O processo de treinamento envolve minimizar uma função de perda que mede a diferença entre os dados gerados e os dados reais."
          },
          "metadata": {}
        },
        {
          "output_type": "stream",
          "name": "stdout",
          "text": [
            "-------------------------------------------\n"
          ]
        }
      ]
    }
  ]
}
